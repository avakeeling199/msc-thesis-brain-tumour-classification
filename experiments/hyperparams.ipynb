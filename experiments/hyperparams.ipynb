{
 "cells": [
  {
   "cell_type": "code",
   "execution_count": 1,
   "id": "401e11cc",
   "metadata": {},
   "outputs": [
    {
     "name": "stdout",
     "output_type": "stream",
     "text": [
      "best params for SVM head on xception: {'C': 10, 'break_ties': False, 'cache_size': 200, 'class_weight': None, 'coef0': 0.0, 'decision_function_shape': 'ovr', 'degree': 3, 'gamma': 'scale', 'kernel': 'rbf', 'max_iter': -1, 'probability': False, 'random_state': None, 'shrinking': True, 'tol': 0.001, 'verbose': False}\n",
      "best params for SVM head on densenet: {'C': 10, 'break_ties': False, 'cache_size': 200, 'class_weight': None, 'coef0': 0.0, 'decision_function_shape': 'ovr', 'degree': 3, 'gamma': 'scale', 'kernel': 'rbf', 'max_iter': -1, 'probability': False, 'random_state': None, 'shrinking': True, 'tol': 0.001, 'verbose': False}\n",
      "best params for SVM on vgg: {'C': 1, 'break_ties': False, 'cache_size': 200, 'class_weight': None, 'coef0': 0.0, 'decision_function_shape': 'ovr', 'degree': 3, 'gamma': 'scale', 'kernel': 'linear', 'max_iter': -1, 'probability': False, 'random_state': None, 'shrinking': True, 'tol': 0.001, 'verbose': False}\n",
      "best params for svm on inception: {'C': 10, 'break_ties': False, 'cache_size': 200, 'class_weight': None, 'coef0': 0.0, 'decision_function_shape': 'ovr', 'degree': 3, 'gamma': 'scale', 'kernel': 'rbf', 'max_iter': -1, 'probability': False, 'random_state': None, 'shrinking': True, 'tol': 0.001, 'verbose': False}\n",
      "best params for rf on densenet: {'bootstrap': True, 'ccp_alpha': 0.0, 'class_weight': None, 'criterion': 'gini', 'max_depth': 20, 'max_features': 'sqrt', 'max_leaf_nodes': None, 'max_samples': None, 'min_impurity_decrease': 0.0, 'min_samples_leaf': 1, 'min_samples_split': 2, 'min_weight_fraction_leaf': 0.0, 'monotonic_cst': None, 'n_estimators': 200, 'n_jobs': None, 'oob_score': False, 'random_state': 3, 'verbose': 0, 'warm_start': False}\n"
     ]
    }
   ],
   "source": [
    "import joblib\n",
    "# Best SVM hyperparameters from GridSearchCV\n",
    "svm_xception = joblib.load(\"../models/Classifiers/Xception_svm_best_model.joblib\")\n",
    "print(f\"best params for SVM head on xception: {svm_xception.get_params()}\")\n",
    "\n",
    "svm_densenet = joblib.load(\"../models/Classifiers/DenseNet121_svm_best_model.joblib\")\n",
    "print(f\"best params for SVM head on densenet: {svm_densenet.get_params()}\")\n",
    "\n",
    "svm_vgg = joblib.load(\"../models/Classifiers/VGG16_svm_best_model.joblib\")\n",
    "print(f\"best params for SVM on vgg: {svm_vgg.get_params()}\")\n",
    "\n",
    "svm_inception = joblib.load(\"../models/Classifiers/InceptionV3_svm_best_model.joblib\")\n",
    "print(f\"best params for svm on inception: {svm_inception.get_params()}\")\n",
    "\n",
    "rf_densenet = joblib.load(\"../models/Classifiers/DenseNet121_rf_best_model.joblib\")\n",
    "print(f\"best params for rf on densenet: {rf_densenet.get_params()}\")"
   ]
  },
  {
   "cell_type": "code",
   "execution_count": null,
   "id": "36bee612",
   "metadata": {},
   "outputs": [],
   "source": []
  }
 ],
 "metadata": {
  "kernelspec": {
   "display_name": "tensorflow_env",
   "language": "python",
   "name": "python3"
  },
  "language_info": {
   "codemirror_mode": {
    "name": "ipython",
    "version": 3
   },
   "file_extension": ".py",
   "mimetype": "text/x-python",
   "name": "python",
   "nbconvert_exporter": "python",
   "pygments_lexer": "ipython3",
   "version": "3.10.16"
  }
 },
 "nbformat": 4,
 "nbformat_minor": 5
}
